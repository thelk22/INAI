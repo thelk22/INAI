{
 "cells": [
  {
   "cell_type": "code",
   "execution_count": 1,
   "metadata": {},
   "outputs": [],
   "source": [
    "import pandas as pd"
   ]
  },
  {
   "cell_type": "code",
   "execution_count": 4,
   "metadata": {},
   "outputs": [
    {
     "data": {
      "text/html": [
       "<div>\n",
       "<style scoped>\n",
       "    .dataframe tbody tr th:only-of-type {\n",
       "        vertical-align: middle;\n",
       "    }\n",
       "\n",
       "    .dataframe tbody tr th {\n",
       "        vertical-align: top;\n",
       "    }\n",
       "\n",
       "    .dataframe thead th {\n",
       "        text-align: right;\n",
       "    }\n",
       "</style>\n",
       "<table border=\"1\" class=\"dataframe\">\n",
       "  <thead>\n",
       "    <tr style=\"text-align: right;\">\n",
       "      <th></th>\n",
       "      <th>Book Title</th>\n",
       "      <th>Book Classification</th>\n",
       "      <th>Author Name</th>\n",
       "      <th>Sales</th>\n",
       "    </tr>\n",
       "  </thead>\n",
       "  <tbody>\n",
       "    <tr>\n",
       "      <th>0</th>\n",
       "      <td>Harry Potter and The Philosophers Stone</td>\n",
       "      <td>Fiction</td>\n",
       "      <td>JK Rowling</td>\n",
       "      <td>12000000</td>\n",
       "    </tr>\n",
       "    <tr>\n",
       "      <th>1</th>\n",
       "      <td>Artificial Intelligence: A Modern Approach</td>\n",
       "      <td>Non-Fiction</td>\n",
       "      <td>Russel and Norvig</td>\n",
       "      <td>10000</td>\n",
       "    </tr>\n",
       "  </tbody>\n",
       "</table>\n",
       "</div>"
      ],
      "text/plain": [
       "                                   Book Title Book Classification  \\\n",
       "0     Harry Potter and The Philosophers Stone             Fiction   \n",
       "1  Artificial Intelligence: A Modern Approach         Non-Fiction   \n",
       "\n",
       "         Author Name     Sales  \n",
       "0         JK Rowling  12000000  \n",
       "1  Russel and Norvig     10000  "
      ]
     },
     "execution_count": 4,
     "metadata": {},
     "output_type": "execute_result"
    }
   ],
   "source": [
    "books = pd.Series(['Harry Potter and The Philosophers Stone','Artificial Intelligence: A Modern Approach'])\n",
    "book_class = pd.Series(['Fiction','Non-Fiction'])\n",
    "authors = pd.Series(['JK Rowling', 'Russel and Norvig'])\n",
    "sold = pd.Series([12000000,10000])\n",
    "\n",
    "book_frame = pd.DataFrame({\n",
    "    'Book Title': books,\n",
    "    'Book Classification': book_class,\n",
    "    'Author Name': authors,\n",
    "    'Sales': sold\n",
    "})\n",
    "book_frame\n"
   ]
  },
  {
   "cell_type": "code",
   "execution_count": 10,
   "metadata": {},
   "outputs": [
    {
     "name": "stdout",
     "output_type": "stream",
     "text": [
      "  0      1      2  3  4  5  6     7  8  9   10 11 12     13   14 15\n",
      "0  b  30.83  0.000  u  g  w  v  1.25  t  t   1  f  g  00202    0  +\n",
      "1  a  58.67  4.460  u  g  q  h  3.04  t  t   6  f  g  00043  560  +\n",
      "2  a  24.50  0.500  u  g  q  h  1.50  t  f   0  f  g  00280  824  +\n",
      "3  b  27.83  1.540  u  g  w  v  3.75  t  t   5  t  g  00100    3  +\n",
      "4  b  20.17  5.625  u  g  w  v  1.71  t  f   0  f  s  00120    0  +\n",
      "    0      1       2  3  4   5   6     7  8  9   10 11 12     13   14 15\n",
      "685  b  21.08  10.085  y  p   e   h  1.25  f  f   0  f  g  00260    0  -\n",
      "686  a  22.67   0.750  u  g   c   v  2.00  f  t   2  t  g  00200  394  -\n",
      "687  a  25.25  13.500  y  p  ff  ff  2.00  f  t   1  t  g  00200    1  -\n",
      "688  b  17.92   0.205  u  g  aa   v  0.04  f  f   0  f  g  00280  750  -\n",
      "689  b  35.00   3.375  u  g   c   h  8.29  f  f   0  t  g  00000    0  -\n"
     ]
    }
   ],
   "source": [
    "df = pd.read_csv('http://archive.ics.uci.edu/ml/machine-learning-databases/credit-screening/crx.data',sep=',',header=None)\n",
    "\n",
    "print(df.head())\n",
    "print(df.tail())"
   ]
  },
  {
   "cell_type": "code",
   "execution_count": 16,
   "metadata": {},
   "outputs": [
    {
     "name": "stdout",
     "output_type": "stream",
     "text": [
      "0       Harry Potter and The Philosophers Stone\n",
      "1    Artificial Intelligence: A Modern Approach\n",
      "Name: Book Title, dtype: object\n",
      "Harry Potter and The Philosophers Stone\n",
      "0       Harry Potter and The Philosophers Stone\n",
      "1    Artificial Intelligence: A Modern Approach\n",
      "Name: Book Title, dtype: object\n"
     ]
    }
   ],
   "source": [
    "print(book_frame['Book Title'])\n",
    "print(book_frame['Book Title'][0])\n",
    "print(book_frame['Book Title'][0:2]) # get used to Python indexing... includes first, doesn't include last"
   ]
  },
  {
   "cell_type": "code",
   "execution_count": 24,
   "metadata": {},
   "outputs": [
    {
     "name": "stdout",
     "output_type": "stream",
     "text": [
      "Book Title             Harry Potter and The Philosophers Stone\n",
      "Book Classification                                    Fiction\n",
      "Author Name                                         JK Rowling\n",
      "Sales                                                 12000000\n",
      "Name: 0, dtype: object\n",
      "<class 'pandas.core.series.Series'>\n",
      "Harry Potter and The Philosophers Stone\n",
      "                                   Book Title Book Classification  \\\n",
      "0     Harry Potter and The Philosophers Stone             Fiction   \n",
      "1  Artificial Intelligence: A Modern Approach         Non-Fiction   \n",
      "\n",
      "         Author Name     Sales  \n",
      "0         JK Rowling  12000000  \n",
      "1  Russel and Norvig     10000  \n",
      "<class 'pandas.core.frame.DataFrame'>\n"
     ]
    }
   ],
   "source": [
    "# slice rows using iloc, which selects a row and returns it as:\n",
    "# > a pandas series (if one row selected)\n",
    "# > a pandas dataframe (if multiple rows selected)\n",
    "\n",
    "print(book_frame.iloc[0])\n",
    "print(type(book_frame.iloc[0]))\n",
    "\n",
    "print(book_frame.iloc[0]['Book Title'])\n",
    "\n",
    "print(book_frame.iloc[0:2])\n",
    "print(type(book_frame.iloc[0:2]))"
   ]
  },
  {
   "cell_type": "code",
   "execution_count": 37,
   "metadata": {},
   "outputs": [
    {
     "name": "stdout",
     "output_type": "stream",
     "text": [
      "                                   Book Title Book Classification  \\\n",
      "0     Harry Potter and The Philosophers Stone             Fiction   \n",
      "1  Artificial Intelligence: A Modern Approach         Non-Fiction   \n",
      "\n",
      "         Author Name         Sales  \n",
      "0         JK Rowling  1.200000e+09  \n",
      "1  Russel and Norvig  1.000000e+06  \n",
      "0    20.905587\n",
      "1    13.815511\n",
      "Name: Sales, dtype: float64\n",
      "                                   Book Title Book Classification  \\\n",
      "0     Harry Potter and The Philosophers Stone             Fiction   \n",
      "1  Artificial Intelligence: A Modern Approach         Non-Fiction   \n",
      "\n",
      "         Author Name         Sales  Log Sales  \n",
      "0         JK Rowling  1.200000e+09  20.905587  \n",
      "1  Russel and Norvig  1.000000e+06  13.815511  \n"
     ]
    }
   ],
   "source": [
    "# Manipulate data in data frame\n",
    "\n",
    "book_frame['Sales'] = book_frame['Sales'] * 10\n",
    "print(book_frame)\n",
    "\n",
    "import numpy as np\n",
    "log_sales = np.log(book_frame['Sales'])\n",
    "print(log_sales)\n",
    "book_frame['Log Sales'] = log_sales # create new column\n",
    "print(book_frame)\n"
   ]
  },
  {
   "cell_type": "code",
   "execution_count": 40,
   "metadata": {},
   "outputs": [
    {
     "name": "stdout",
     "output_type": "stream",
     "text": [
      "                                   Book Title Book Classification  \\\n",
      "0     Harry Potter and The Philosophers Stone             Fiction   \n",
      "1  Artificial Intelligence: A Modern Approach         Non-Fiction   \n",
      "\n",
      "         Author Name         Sales  Log Sales  Rating  \n",
      "0         JK Rowling  1.200000e+09  20.905587       9  \n",
      "1  Russel and Norvig  1.000000e+06  13.815511       7  \n"
     ]
    }
   ],
   "source": [
    "book_frame['Rating'] = pd.Series([9,7])\n",
    "print(book_frame)"
   ]
  },
  {
   "cell_type": "code",
   "execution_count": null,
   "metadata": {},
   "outputs": [],
   "source": []
  }
 ],
 "metadata": {
  "kernelspec": {
   "display_name": "Python 3",
   "language": "python",
   "name": "python3"
  },
  "language_info": {
   "codemirror_mode": {
    "name": "ipython",
    "version": 3
   },
   "file_extension": ".py",
   "mimetype": "text/x-python",
   "name": "python",
   "nbconvert_exporter": "python",
   "pygments_lexer": "ipython3",
   "version": "3.7.6"
  }
 },
 "nbformat": 4,
 "nbformat_minor": 4
}
